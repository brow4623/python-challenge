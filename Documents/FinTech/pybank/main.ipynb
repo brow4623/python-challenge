{
 "cells": [
  {
   "cell_type": "code",
   "execution_count": null,
   "id": "dcb53f89-49cf-4bc5-8736-07240f76ca33",
   "metadata": {},
   "outputs": [],
   "source": [
    "#This file will import Bank budget data and analyze the contents to calculate key performance indicators "
   ]
  },
  {
   "cell_type": "code",
   "execution_count": 48,
   "id": "a31c787f-5dd4-4699-a25e-a3e00aa61ca9",
   "metadata": {},
   "outputs": [
    {
     "name": "stdout",
     "output_type": "stream",
     "text": [
      "c:\\Users\\mbdaw\\Documents\\FinTech\\pybank\\Starter_code\\PyBank\\Resources\\budget_data.csv\n",
      "<class '_io.TextIOWrapper'>\n",
      "\n",
      "Financial Analysis\n",
      "-------------------------------------\n",
      "Number of Months: 86 \n",
      "\n",
      "the average change is -2288.1976744186045\n",
      "\n",
      "the total profit is 38382578\n",
      "\n",
      "The greatest increase in profits was 1926159 which occured on Feb-2012\n",
      "\n",
      "The decrease increase in profits was -2196167 which occured on Sep-2013\n",
      "\n"
     ]
    }
   ],
   "source": [
    "from pathlib import Path\n",
    "import csv\n",
    "csvpath = Path(r'c:\\Users\\mbdaw\\Documents\\FinTech\\pybank\\Starter_code\\PyBank\\Resources\\budget_data.csv')\n",
    "print(csvpath)\n",
    "#initialize variables \n",
    "line_num=0\n",
    "month_counter = 0 \n",
    "total_profit = 0\n",
    "old_profit = 0\n",
    "new_profit = 0\n",
    "total_change =0\n",
    "greatest_increase =0\n",
    "greatest_decrease =0 \n",
    "greatest_day_increase =0\n",
    "greatest_day_decrease =0\n",
    "date = 0\n",
    "\n",
    "#open the csv file path \n",
    "with open(csvpath, 'r') as csvfile: \n",
    "    print(type(csvfile))\n",
    "    csvreader = csv.reader(csvfile, delimiter=',')\n",
    "    header = next(csvreader)\n",
    "    line_num +=1\n",
    "    \n",
    "#iterate through each line of csv file \n",
    "    for row in csvreader:\n",
    "        new_profit = int(row[1])\n",
    "        date = row[0]\n",
    "        total_profit += new_profit #add PnL to profit total \n",
    "        month_counter +=1 #iterate month counter\n",
    "        if old_profit != 0:\n",
    "            change = new_profit - old_profit\n",
    "            \n",
    "        else:\n",
    "            change = 0 \n",
    "            \n",
    "        #Determine if the change is the greatest or least of the dataset\n",
    "        if change > greatest_increase :\n",
    "            greatest_increase = change\n",
    "            greatest_day_increase = date\n",
    "        if change < greatest_decrease:\n",
    "            greatest_decrease = change\n",
    "            greatest_day_decrease = date\n",
    "            \n",
    "        total_change += change\n",
    "        old_profit = new_profit\n",
    "    \n",
    "    average_change = total_change/month_counter #calculate average change \n",
    "    \n",
    "    #print out all results\n",
    "    print (\"\\nFinancial Analysis\")\n",
    "    print (\"-------------------------------------\")\n",
    "    print (f\"Number of Months: {month_counter} \\n\")\n",
    "    print (f\"the average change is {average_change}\\n\")    \n",
    "    print (f\"the total profit is {total_profit}\\n\")\n",
    "    print (f\"The greatest increase in profits was {greatest_increase} which occured on {greatest_day_increase}\\n\")\n",
    "    print (f\"The decrease increase in profits was {greatest_decrease} which occured on {greatest_day_decrease}\\n\")\n",
    "    \n",
    "    \n",
    "    #This block of code creates and opens the file \"output.txt\". and writes text to that file. If the file already exists, this will write to the existing file.\n",
    "    f= open(\"output.txt\",\"w+\")\n",
    "    f.write(\"\\nFinancial Analysis\\n\")\n",
    "    f.write(\"-------------------------------------\\n\")\n",
    "    f.write(f\"Number of Months: {month_counter} \\n\")\n",
    "    f.write(f\"the average change is {average_change}\\n\")    \n",
    "    f.write(f\"the total profit is {total_profit}\\n\")\n",
    "    f.write(f\"The greatest increase in profits was {greatest_increase} which occured on {greatest_day_increase}\\n\")\n",
    "    f.write(f\"The decrease increase in profits was {greatest_decrease} which occured on {greatest_day_decrease}\\n\")\n",
    "    f.close()\n"
   ]
  },
  {
   "cell_type": "code",
   "execution_count": null,
   "id": "f46c5b24-0628-4eee-a2c2-a5a76bb93a45",
   "metadata": {},
   "outputs": [],
   "source": []
  }
 ],
 "metadata": {
  "kernelspec": {
   "display_name": "Python 3 (ipykernel)",
   "language": "python",
   "name": "python3"
  },
  "language_info": {
   "codemirror_mode": {
    "name": "ipython",
    "version": 3
   },
   "file_extension": ".py",
   "mimetype": "text/x-python",
   "name": "python",
   "nbconvert_exporter": "python",
   "pygments_lexer": "ipython3",
   "version": "3.9.13"
  }
 },
 "nbformat": 4,
 "nbformat_minor": 5
}
